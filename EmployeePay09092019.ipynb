{
 "cells": [
  {
   "cell_type": "code",
   "execution_count": 1,
   "metadata": {},
   "outputs": [
    {
     "name": "stdout",
     "output_type": "stream",
     "text": [
      "Please enter employee's ID:\t1\n",
      "Please enter employee's name:\tTirsit\n",
      "Please enter hourly rate:\t40\n",
      "Please enter hours worked:\t40\n",
      "Would you like to continue? (yes/ no) yes\n",
      "Please enter employee's ID:\t2\n",
      "Please enter employee's name:\tHelina\n",
      "Please enter hourly rate:\t50\n",
      "Please enter hours worked:\t45\n",
      "Would you like to continue? (yes/ no) yes\n",
      "Please enter employee's ID:\t3\n",
      "Please enter employee's name:\tHanna\n",
      "Please enter hourly rate:\t25\n",
      "Please enter hours worked:\t35\n",
      "Would you like to continue? (yes/ no) no\n"
     ]
    }
   ],
   "source": [
    "empid =[]\n",
    "name = []\n",
    "rate = []\n",
    "hours = []\n",
    "sal = []\n",
    "\n",
    "\n",
    "# set a flag to indicate the entry is active\n",
    "entry_active = True\n",
    "\n",
    "while entry_active:\n",
    "    \n",
    "    # prompt for the employee's id, name, pay rate and hourly pay\n",
    "    \n",
    "    ids = input(\"Please enter employee's ID:\\t\")\n",
    "    emp_name = input(\"Please enter employee's name:\\t\")\n",
    "    emp_rate = input(\"Please enter hourly rate:\\t\")\n",
    "    emp_hours = input(\"Please enter hours worked:\\t\")\n",
    " \n",
    "    emp_rate = float(emp_rate)\n",
    "    emp_hours = float(emp_hours)\n",
    "    \n",
    "    if emp_hours < 40:\n",
    "        emp_sal = (emp_hours * emp_rate)\n",
    "    elif emp_hours >= 40:\n",
    "        emp_sal = ((emp_hours * emp_rate) + ((emp_hours-40) * emp_rate * 1.5))\n",
    "    \n",
    "    #store the response in the list\n",
    "    empid.append(ids)\n",
    "    name.append(emp_name)\n",
    "    rate.append(emp_rate)\n",
    "    hours.append(emp_hours)\n",
    "    sal.append(emp_sal)\n",
    "           \n",
    "\n",
    "    #find out if there are more employees information to add\n",
    "    repeat = input(\"Would you like to continue? (yes/ no) \")\n",
    "    if repeat == 'no':\n",
    "        entry_active = False\n",
    "    \n",
    "\n"
   ]
  },
  {
   "cell_type": "code",
   "execution_count": 2,
   "metadata": {},
   "outputs": [
    {
     "name": "stdout",
     "output_type": "stream",
     "text": [
      "['1', '2', '3'] ['Tirsit', 'Helina', 'Hanna'] [40.0, 50.0, 25.0] [40.0, 45.0, 35.0] [1600.0, 2625.0, 875.0]\n"
     ]
    }
   ],
   "source": [
    "print(empid, name, rate, hours, sal)"
   ]
  }
 ],
 "metadata": {
  "kernelspec": {
   "display_name": "Python 3",
   "language": "python",
   "name": "python3"
  },
  "language_info": {
   "codemirror_mode": {
    "name": "ipython",
    "version": 3
   },
   "file_extension": ".py",
   "mimetype": "text/x-python",
   "name": "python",
   "nbconvert_exporter": "python",
   "pygments_lexer": "ipython3",
   "version": "3.7.3"
  }
 },
 "nbformat": 4,
 "nbformat_minor": 2
}
